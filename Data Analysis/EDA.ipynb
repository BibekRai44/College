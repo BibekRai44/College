{
 "cells": [
  {
   "cell_type": "code",
   "execution_count": 81,
   "metadata": {},
   "outputs": [
    {
     "name": "stdout",
     "output_type": "stream",
     "text": [
      "The autoreload extension is already loaded. To reload it, use:\n",
      "  %reload_ext autoreload\n"
     ]
    }
   ],
   "source": [
    "#importing necessary module\n",
    "\n",
    "import pandas as pd\n",
    "import numpy as np\n",
    "%load_ext autoreload\n",
    "%autoreload 2\n",
    "import warnings\n",
    "warnings.filterwarnings('ignore')\n",
    "import seaborn as sns"
   ]
  },
  {
   "cell_type": "code",
   "execution_count": 82,
   "metadata": {},
   "outputs": [],
   "source": [
    "#reading dataset\n",
    "\n",
    "data=pd.read_csv('/Users/bibekrai/workspace/College/Data.csv')"
   ]
  },
  {
   "cell_type": "code",
   "execution_count": 83,
   "metadata": {},
   "outputs": [],
   "source": [
    "data=data.drop(columns={'Unnamed: 0'})"
   ]
  },
  {
   "cell_type": "code",
   "execution_count": 84,
   "metadata": {},
   "outputs": [
    {
     "data": {
      "text/html": [
       "<div>\n",
       "<style scoped>\n",
       "    .dataframe tbody tr th:only-of-type {\n",
       "        vertical-align: middle;\n",
       "    }\n",
       "\n",
       "    .dataframe tbody tr th {\n",
       "        vertical-align: top;\n",
       "    }\n",
       "\n",
       "    .dataframe thead th {\n",
       "        text-align: right;\n",
       "    }\n",
       "</style>\n",
       "<table border=\"1\" class=\"dataframe\">\n",
       "  <thead>\n",
       "    <tr style=\"text-align: right;\">\n",
       "      <th></th>\n",
       "      <th>College</th>\n",
       "      <th>Location</th>\n",
       "      <th>University</th>\n",
       "      <th>Course Offered</th>\n",
       "      <th>Ownership Type</th>\n",
       "      <th>Phone Number</th>\n",
       "      <th>Email</th>\n",
       "    </tr>\n",
       "  </thead>\n",
       "  <tbody>\n",
       "    <tr>\n",
       "      <th>0</th>\n",
       "      <td>False</td>\n",
       "      <td>False</td>\n",
       "      <td>False</td>\n",
       "      <td>False</td>\n",
       "      <td>False</td>\n",
       "      <td>False</td>\n",
       "      <td>False</td>\n",
       "    </tr>\n",
       "    <tr>\n",
       "      <th>1</th>\n",
       "      <td>False</td>\n",
       "      <td>False</td>\n",
       "      <td>False</td>\n",
       "      <td>False</td>\n",
       "      <td>False</td>\n",
       "      <td>False</td>\n",
       "      <td>False</td>\n",
       "    </tr>\n",
       "    <tr>\n",
       "      <th>2</th>\n",
       "      <td>False</td>\n",
       "      <td>False</td>\n",
       "      <td>False</td>\n",
       "      <td>False</td>\n",
       "      <td>False</td>\n",
       "      <td>False</td>\n",
       "      <td>False</td>\n",
       "    </tr>\n",
       "    <tr>\n",
       "      <th>3</th>\n",
       "      <td>False</td>\n",
       "      <td>False</td>\n",
       "      <td>False</td>\n",
       "      <td>False</td>\n",
       "      <td>False</td>\n",
       "      <td>False</td>\n",
       "      <td>False</td>\n",
       "    </tr>\n",
       "    <tr>\n",
       "      <th>4</th>\n",
       "      <td>False</td>\n",
       "      <td>False</td>\n",
       "      <td>False</td>\n",
       "      <td>False</td>\n",
       "      <td>False</td>\n",
       "      <td>False</td>\n",
       "      <td>False</td>\n",
       "    </tr>\n",
       "    <tr>\n",
       "      <th>...</th>\n",
       "      <td>...</td>\n",
       "      <td>...</td>\n",
       "      <td>...</td>\n",
       "      <td>...</td>\n",
       "      <td>...</td>\n",
       "      <td>...</td>\n",
       "      <td>...</td>\n",
       "    </tr>\n",
       "    <tr>\n",
       "      <th>1372</th>\n",
       "      <td>False</td>\n",
       "      <td>False</td>\n",
       "      <td>False</td>\n",
       "      <td>False</td>\n",
       "      <td>False</td>\n",
       "      <td>True</td>\n",
       "      <td>True</td>\n",
       "    </tr>\n",
       "    <tr>\n",
       "      <th>1373</th>\n",
       "      <td>False</td>\n",
       "      <td>False</td>\n",
       "      <td>False</td>\n",
       "      <td>False</td>\n",
       "      <td>False</td>\n",
       "      <td>True</td>\n",
       "      <td>True</td>\n",
       "    </tr>\n",
       "    <tr>\n",
       "      <th>1374</th>\n",
       "      <td>False</td>\n",
       "      <td>False</td>\n",
       "      <td>False</td>\n",
       "      <td>False</td>\n",
       "      <td>False</td>\n",
       "      <td>False</td>\n",
       "      <td>False</td>\n",
       "    </tr>\n",
       "    <tr>\n",
       "      <th>1375</th>\n",
       "      <td>False</td>\n",
       "      <td>False</td>\n",
       "      <td>False</td>\n",
       "      <td>False</td>\n",
       "      <td>False</td>\n",
       "      <td>True</td>\n",
       "      <td>True</td>\n",
       "    </tr>\n",
       "    <tr>\n",
       "      <th>1376</th>\n",
       "      <td>False</td>\n",
       "      <td>False</td>\n",
       "      <td>False</td>\n",
       "      <td>False</td>\n",
       "      <td>False</td>\n",
       "      <td>True</td>\n",
       "      <td>True</td>\n",
       "    </tr>\n",
       "  </tbody>\n",
       "</table>\n",
       "<p>1377 rows × 7 columns</p>\n",
       "</div>"
      ],
      "text/plain": [
       "      College  Location  University  Course Offered  Ownership Type  \\\n",
       "0       False     False       False           False           False   \n",
       "1       False     False       False           False           False   \n",
       "2       False     False       False           False           False   \n",
       "3       False     False       False           False           False   \n",
       "4       False     False       False           False           False   \n",
       "...       ...       ...         ...             ...             ...   \n",
       "1372    False     False       False           False           False   \n",
       "1373    False     False       False           False           False   \n",
       "1374    False     False       False           False           False   \n",
       "1375    False     False       False           False           False   \n",
       "1376    False     False       False           False           False   \n",
       "\n",
       "      Phone Number  Email  \n",
       "0            False  False  \n",
       "1            False  False  \n",
       "2            False  False  \n",
       "3            False  False  \n",
       "4            False  False  \n",
       "...            ...    ...  \n",
       "1372          True   True  \n",
       "1373          True   True  \n",
       "1374         False  False  \n",
       "1375          True   True  \n",
       "1376          True   True  \n",
       "\n",
       "[1377 rows x 7 columns]"
      ]
     },
     "execution_count": 84,
     "metadata": {},
     "output_type": "execute_result"
    }
   ],
   "source": [
    "data.isnull()"
   ]
  },
  {
   "cell_type": "code",
   "execution_count": 85,
   "metadata": {},
   "outputs": [
    {
     "data": {
      "text/plain": [
       "College              0\n",
       "Location             2\n",
       "University          20\n",
       "Course Offered       0\n",
       "Ownership Type      35\n",
       "Phone Number       742\n",
       "Email             1001\n",
       "dtype: int64"
      ]
     },
     "execution_count": 85,
     "metadata": {},
     "output_type": "execute_result"
    }
   ],
   "source": [
    "data.isnull().sum()"
   ]
  },
  {
   "cell_type": "code",
   "execution_count": 86,
   "metadata": {},
   "outputs": [],
   "source": [
    "data['Location']=data['Location'].fillna('null')\n",
    "data['University']=data['University'].fillna('null')\n",
    "data['Ownership Type']=data['Ownership Type'].fillna('null')\n",
    "data['Phone Number']=data['Phone Number'].fillna('null')\n",
    "data['Email']=data['Email'].fillna('null')"
   ]
  },
  {
   "cell_type": "code",
   "execution_count": 87,
   "metadata": {},
   "outputs": [
    {
     "data": {
      "text/html": [
       "<div>\n",
       "<style scoped>\n",
       "    .dataframe tbody tr th:only-of-type {\n",
       "        vertical-align: middle;\n",
       "    }\n",
       "\n",
       "    .dataframe tbody tr th {\n",
       "        vertical-align: top;\n",
       "    }\n",
       "\n",
       "    .dataframe thead th {\n",
       "        text-align: right;\n",
       "    }\n",
       "</style>\n",
       "<table border=\"1\" class=\"dataframe\">\n",
       "  <thead>\n",
       "    <tr style=\"text-align: right;\">\n",
       "      <th></th>\n",
       "      <th>College</th>\n",
       "      <th>Location</th>\n",
       "      <th>University</th>\n",
       "      <th>Course Offered</th>\n",
       "      <th>Ownership Type</th>\n",
       "      <th>Phone Number</th>\n",
       "      <th>Email</th>\n",
       "    </tr>\n",
       "  </thead>\n",
       "  <tbody>\n",
       "    <tr>\n",
       "      <th>count</th>\n",
       "      <td>1377</td>\n",
       "      <td>1377</td>\n",
       "      <td>1377</td>\n",
       "      <td>1377</td>\n",
       "      <td>1377</td>\n",
       "      <td>1377</td>\n",
       "      <td>1377</td>\n",
       "    </tr>\n",
       "    <tr>\n",
       "      <th>unique</th>\n",
       "      <td>1310</td>\n",
       "      <td>978</td>\n",
       "      <td>43</td>\n",
       "      <td>702</td>\n",
       "      <td>5</td>\n",
       "      <td>603</td>\n",
       "      <td>354</td>\n",
       "    </tr>\n",
       "    <tr>\n",
       "      <th>top</th>\n",
       "      <td>Suprabhat College</td>\n",
       "      <td>Kirtipur, Kathmandu</td>\n",
       "      <td>Tribhuvan University</td>\n",
       "      <td>Bachelor of Education\\n        (BEd)</td>\n",
       "      <td>private Institution</td>\n",
       "      <td>null</td>\n",
       "      <td>null</td>\n",
       "    </tr>\n",
       "    <tr>\n",
       "      <th>freq</th>\n",
       "      <td>5</td>\n",
       "      <td>42</td>\n",
       "      <td>847</td>\n",
       "      <td>128</td>\n",
       "      <td>557</td>\n",
       "      <td>742</td>\n",
       "      <td>1001</td>\n",
       "    </tr>\n",
       "  </tbody>\n",
       "</table>\n",
       "</div>"
      ],
      "text/plain": [
       "                  College             Location            University  \\\n",
       "count                1377                 1377                  1377   \n",
       "unique               1310                  978                    43   \n",
       "top     Suprabhat College  Kirtipur, Kathmandu  Tribhuvan University   \n",
       "freq                    5                   42                   847   \n",
       "\n",
       "                              Course Offered       Ownership Type  \\\n",
       "count                                   1377                 1377   \n",
       "unique                                   702                    5   \n",
       "top     Bachelor of Education\\n        (BEd)  private Institution   \n",
       "freq                                     128                  557   \n",
       "\n",
       "       Phone Number Email  \n",
       "count          1377  1377  \n",
       "unique          603   354  \n",
       "top            null  null  \n",
       "freq            742  1001  "
      ]
     },
     "execution_count": 87,
     "metadata": {},
     "output_type": "execute_result"
    }
   ],
   "source": [
    "data.describe()"
   ]
  },
  {
   "cell_type": "code",
   "execution_count": 88,
   "metadata": {},
   "outputs": [
    {
     "name": "stdout",
     "output_type": "stream",
     "text": [
      "<class 'pandas.core.frame.DataFrame'>\n",
      "RangeIndex: 1377 entries, 0 to 1376\n",
      "Data columns (total 7 columns):\n",
      " #   Column          Non-Null Count  Dtype \n",
      "---  ------          --------------  ----- \n",
      " 0   College         1377 non-null   object\n",
      " 1   Location        1377 non-null   object\n",
      " 2   University      1377 non-null   object\n",
      " 3   Course Offered  1377 non-null   object\n",
      " 4   Ownership Type  1377 non-null   object\n",
      " 5   Phone Number    1377 non-null   object\n",
      " 6   Email           1377 non-null   object\n",
      "dtypes: object(7)\n",
      "memory usage: 75.4+ KB\n"
     ]
    }
   ],
   "source": [
    "data.info()"
   ]
  },
  {
   "cell_type": "code",
   "execution_count": 89,
   "metadata": {},
   "outputs": [
    {
     "data": {
      "text/plain": [
       "Index(['College', 'Location', 'University', 'Course Offered', 'Ownership Type',\n",
       "       'Phone Number', 'Email'],\n",
       "      dtype='object')"
      ]
     },
     "execution_count": 89,
     "metadata": {},
     "output_type": "execute_result"
    }
   ],
   "source": [
    "data.columns"
   ]
  },
  {
   "cell_type": "code",
   "execution_count": 90,
   "metadata": {},
   "outputs": [
    {
     "data": {
      "text/plain": [
       "College           1\n",
       "Location          1\n",
       "University        1\n",
       "Course Offered    1\n",
       "Ownership Type    1\n",
       "Phone Number      1\n",
       "Email             1\n",
       "dtype: int64"
      ]
     },
     "execution_count": 90,
     "metadata": {},
     "output_type": "execute_result"
    }
   ],
   "source": [
    "data.columns.value_counts()"
   ]
  },
  {
   "cell_type": "code",
   "execution_count": 91,
   "metadata": {},
   "outputs": [
    {
     "data": {
      "text/plain": [
       "0       False\n",
       "1       False\n",
       "2       False\n",
       "3       False\n",
       "4       False\n",
       "        ...  \n",
       "1372    False\n",
       "1373    False\n",
       "1374    False\n",
       "1375    False\n",
       "1376    False\n",
       "Length: 1377, dtype: bool"
      ]
     },
     "execution_count": 91,
     "metadata": {},
     "output_type": "execute_result"
    }
   ],
   "source": [
    "data.duplicated()"
   ]
  },
  {
   "cell_type": "code",
   "execution_count": 92,
   "metadata": {},
   "outputs": [
    {
     "data": {
      "text/plain": [
       "College           object\n",
       "Location          object\n",
       "University        object\n",
       "Course Offered    object\n",
       "Ownership Type    object\n",
       "Phone Number      object\n",
       "Email             object\n",
       "dtype: object"
      ]
     },
     "execution_count": 92,
     "metadata": {},
     "output_type": "execute_result"
    }
   ],
   "source": [
    "data.dtypes"
   ]
  },
  {
   "cell_type": "code",
   "execution_count": 93,
   "metadata": {},
   "outputs": [
    {
     "data": {
      "text/plain": [
       "Suprabhat College                                         5\n",
       "​Indreni Campus                                           5\n",
       "Jagannath Multiple Campus                                 4\n",
       "Sciences School of Nursing | Karnali Academy of Health    3\n",
       "CIST College                                              3\n",
       "                                                         ..\n",
       "Sarlahi Campus                                            1\n",
       "Nava Prabhat Campus                                       1\n",
       "​Sindhu Valley Campus                                     1\n",
       "Laxmi Adarsha Multiple Campus                             1\n",
       "College of Applied Business                               1\n",
       "Name: College, Length: 1310, dtype: int64"
      ]
     },
     "execution_count": 93,
     "metadata": {},
     "output_type": "execute_result"
    }
   ],
   "source": [
    "data['College'].value_counts()"
   ]
  },
  {
   "cell_type": "code",
   "execution_count": 94,
   "metadata": {},
   "outputs": [
    {
     "data": {
      "text/plain": [
       "Kirtipur, Kathmandu                 42\n",
       "Biratnagar, Morang                  22\n",
       "Kumaripati, Lalitpur                12\n",
       "Dharan, Sunsari                     11\n",
       "Bharatpur, Chitwan                  11\n",
       "                                    ..\n",
       "Shantipur, Chandrakot, Gulmi         1\n",
       "Darma, Salyan                        1\n",
       "Deumai, Ilam                         1\n",
       "Dakaha, Dudhouli, Sindhuli           1\n",
       "Gangahity, Dhobikhola, Kathmandu     1\n",
       "Name: Location, Length: 978, dtype: int64"
      ]
     },
     "execution_count": 94,
     "metadata": {},
     "output_type": "execute_result"
    }
   ],
   "source": [
    "data['Location'].value_counts()"
   ]
  },
  {
   "cell_type": "code",
   "execution_count": 95,
   "metadata": {},
   "outputs": [
    {
     "data": {
      "text/plain": [
       "Bachelor of Education\\n        (BEd)                                                                                                                                                                                                                                                                                                                                                                      128\n",
       "Bachelor of Business Studies\\n        (BBS)                                                                                                                                                                                                                                                                                                                                                               121\n",
       "Bachelor of Business Studies\\n        (BBS)\\n Bachelor of Education\\n        (BEd)                                                                                                                                                                                                                                                                                                                         92\n",
       "Bachelor of Education\\n        (BEd)\\n Bachelor of Business Studies\\n        (BBS)                                                                                                                                                                                                                                                                                                                         83\n",
       "BSc Agriculture\\n        (B.Sc Ag)                                                                                                                                                                                                                                                                                                                                                                         15\n",
       "                                                                                                                                                                                                                                                                                                                                                                                                         ... \n",
       "Bachelor of Business Studies\\n        (BBS)\\n Ten Plus Two (+2) Science\\n        (+2 Science)\\n Ten Plus Two (+2) Management\\n        (+2 Mangement)\\n Ten Plus Two (+2) Humanities\\n        (+2 Humanities)                                                                                                                                                                                                1\n",
       "Bachelor of Business Administration\\n        (BBA)\\n Executive MBA\\n        (EMBA)                                                                                                                                                                                                                                                                                                                          1\n",
       "Ten Plus Two (+2) Management\\n        (+2 Mangement)\\n Ten Plus Two (+2) Science\\n        (+2 Science)\\n Ten Plus Two (+2) Humanities\\n        (+2 Humanities)\\n Bachelor of Arts\\n        (BA)\\n Bachelor of Business Studies\\n        (BBS)\\n Bachelor of Arts in Social Work\\n        (BASW)\\n Bachelor of Computer Application\\n        (BCA)\\n Bachelor in Hospitality Management\\n        (BHM)       1\n",
       "Bachelor of Arts\\n        (BA)\\n Bachelor of Education\\n        (BEd)\\n Bachelor of Business Studies\\n        (BBS)\\n Master of Business Studies\\n        (MBS)\\n MA in Sociology\\n MA in Anthropology\\n        (MA Anthropology)\\n Ten Plus Two (+2) Humanities\\n        (+2 Humanities)\\n Ten Plus Two (+2) Education\\n        (+2 Education)\\n Ten Plus Two (+2) Management\\n        (+2 Mangement)      1\n",
       "Bachelor of Business Administration\\n        (BBA)\\n Bachelor of Information Management\\n        (BIM)\\n BSc Computer Science and Information Technology\\n        (BSc CSIT)\\n Bachelor of Business Studies\\n        (BBS)\\n Bachelor of Computer Application\\n        (BCA)                                                                                                                                1\n",
       "Name: Course Offered, Length: 702, dtype: int64"
      ]
     },
     "execution_count": 95,
     "metadata": {},
     "output_type": "execute_result"
    }
   ],
   "source": [
    "data['Course Offered'].value_counts()"
   ]
  },
  {
   "cell_type": "code",
   "execution_count": 96,
   "metadata": {},
   "outputs": [
    {
     "data": {
      "text/plain": [
       "Tribhuvan University                                       847\n",
       "National Examinations Board                                180\n",
       "Purbanchal University                                       80\n",
       "Pokhara University                                          67\n",
       "Council for Technical Education and Vocational Training     24\n",
       "Kathmandu University                                        22\n",
       "Nepal Sanskrit University                                   21\n",
       "null                                                        20\n",
       "Agriculture and Forestry University                         20\n",
       "Far-Western University                                      13\n",
       "Mid-West University                                         12\n",
       "Lumbini Buddhist University                                 10\n",
       "Lincoln University College                                  10\n",
       "ACCA                                                         5\n",
       "Karnali Academy of Health Sciences                           5\n",
       "Manmohan Technical University                                3\n",
       "Asia Pacific University of Technology & Innovation           3\n",
       "University of Sunderland                                     3\n",
       "Patan Academy of Health Sciences                             3\n",
       "Indira Gandhi National Open University                       2\n",
       "London Metropolitan University                               2\n",
       "University of Wolverhampton                                  2\n",
       "The Institute of Chartered Accountants of Nepal              2\n",
       "Westcliff University, CA, USA                                2\n",
       "​Infrastructure University Kuala Lumpur                      1\n",
       "Cambridge GCE A Levels                                       1\n",
       "Coventry University, UK                                      1\n",
       "Nilai University, Malaysia                                   1\n",
       "International Teaching University of Georgia                 1\n",
       "Salzburg University of Applied Sciences                      1\n",
       "Delta International University                               1\n",
       "SIAM University, Thailand                                    1\n",
       "Asia e University                                            1\n",
       "UCSI University                                              1\n",
       "HELP University                                              1\n",
       "American Hospitality Academy, USA                            1\n",
       "Limkokwing University, Malaysia                              1\n",
       "Taylor's University, Malaysia                                1\n",
       "University of Bedfordshire                                   1\n",
       "EHE European University, EurAka, Switzerland                 1\n",
       "BPKIHS                                                       1\n",
       "​Oxford Brookes University                                   1\n",
       "Ecole hôtelière de Lausanne                                  1\n",
       "Name: University, dtype: int64"
      ]
     },
     "execution_count": 96,
     "metadata": {},
     "output_type": "execute_result"
    }
   ],
   "source": [
    "data['University'].value_counts()"
   ]
  },
  {
   "cell_type": "code",
   "execution_count": 97,
   "metadata": {},
   "outputs": [
    {
     "data": {
      "text/plain": [
       "private Institution        557\n",
       "community Institution      460\n",
       "constituent Institution    173\n",
       "public Institution         152\n",
       "null                        35\n",
       "Name: Ownership Type, dtype: int64"
      ]
     },
     "execution_count": 97,
     "metadata": {},
     "output_type": "execute_result"
    }
   ],
   "source": [
    "data['Ownership Type'].value_counts()"
   ]
  },
  {
   "cell_type": "code",
   "execution_count": 98,
   "metadata": {},
   "outputs": [
    {
     "data": {
      "text/plain": [
       "null                                  1001\n",
       "suprabhatcollege@gmail.com               5\n",
       "info@kahs.edu.np                         5\n",
       "ghanteshor@fwu.edu.np                    3\n",
       "info@mtu.edu.np                          3\n",
       "                                      ... \n",
       "info@ncc.edu.np                          1\n",
       "trichandramultiplecampus@gmail.com       1\n",
       "info@pkcampus.edu.np                     1\n",
       "info@bmc.edu.np                          1\n",
       "info@pusob.edu.np                        1\n",
       "Name: Email, Length: 354, dtype: int64"
      ]
     },
     "execution_count": 98,
     "metadata": {},
     "output_type": "execute_result"
    }
   ],
   "source": [
    "data['Email'].value_counts()"
   ]
  },
  {
   "cell_type": "code",
   "execution_count": 99,
   "metadata": {},
   "outputs": [
    {
     "data": {
      "text/plain": [
       "null                        742\n",
       "087-520115,  087- 520355      5\n",
       "095-520170                    4\n",
       "974701203                     3\n",
       "09952400                      3\n",
       "                           ... \n",
       "083-521315, 9848085540        1\n",
       "056-591655, 056-591777        1\n",
       "9852084222                    1\n",
       "061-461168                    1\n",
       "061-504147 , 061-504035       1\n",
       "Name: Phone Number, Length: 603, dtype: int64"
      ]
     },
     "execution_count": 99,
     "metadata": {},
     "output_type": "execute_result"
    }
   ],
   "source": [
    "data['Phone Number'].value_counts()"
   ]
  },
  {
   "cell_type": "code",
   "execution_count": 100,
   "metadata": {},
   "outputs": [
    {
     "ename": "ValueError",
     "evalue": "No variables found for grid columns.",
     "output_type": "error",
     "traceback": [
      "\u001b[0;31m---------------------------------------------------------------------------\u001b[0m",
      "\u001b[0;31mValueError\u001b[0m                                Traceback (most recent call last)",
      "Cell \u001b[0;32mIn[100], line 1\u001b[0m\n\u001b[0;32m----> 1\u001b[0m sns\u001b[39m.\u001b[39;49mpairplot(data,palette\u001b[39m=\u001b[39;49m\u001b[39m'\u001b[39;49m\u001b[39mviridis\u001b[39;49m\u001b[39m'\u001b[39;49m,markers\u001b[39m=\u001b[39;49m\u001b[39m'\u001b[39;49m\u001b[39m*\u001b[39;49m\u001b[39m'\u001b[39;49m,height\u001b[39m=\u001b[39;49m\u001b[39m2.5\u001b[39;49m,kind\u001b[39m=\u001b[39;49m\u001b[39m'\u001b[39;49m\u001b[39mscatter\u001b[39;49m\u001b[39m'\u001b[39;49m)\n",
      "File \u001b[0;32m~/tensorflow-test/env/lib/python3.10/site-packages/seaborn/axisgrid.py:2114\u001b[0m, in \u001b[0;36mpairplot\u001b[0;34m(data, hue, hue_order, palette, vars, x_vars, y_vars, kind, diag_kind, markers, height, aspect, corner, dropna, plot_kws, diag_kws, grid_kws, size)\u001b[0m\n\u001b[1;32m   2112\u001b[0m \u001b[39m# Set up the PairGrid\u001b[39;00m\n\u001b[1;32m   2113\u001b[0m grid_kws\u001b[39m.\u001b[39msetdefault(\u001b[39m\"\u001b[39m\u001b[39mdiag_sharey\u001b[39m\u001b[39m\"\u001b[39m, diag_kind \u001b[39m==\u001b[39m \u001b[39m\"\u001b[39m\u001b[39mhist\u001b[39m\u001b[39m\"\u001b[39m)\n\u001b[0;32m-> 2114\u001b[0m grid \u001b[39m=\u001b[39m PairGrid(data, \u001b[39mvars\u001b[39;49m\u001b[39m=\u001b[39;49m\u001b[39mvars\u001b[39;49m, x_vars\u001b[39m=\u001b[39;49mx_vars, y_vars\u001b[39m=\u001b[39;49my_vars, hue\u001b[39m=\u001b[39;49mhue,\n\u001b[1;32m   2115\u001b[0m                 hue_order\u001b[39m=\u001b[39;49mhue_order, palette\u001b[39m=\u001b[39;49mpalette, corner\u001b[39m=\u001b[39;49mcorner,\n\u001b[1;32m   2116\u001b[0m                 height\u001b[39m=\u001b[39;49mheight, aspect\u001b[39m=\u001b[39;49maspect, dropna\u001b[39m=\u001b[39;49mdropna, \u001b[39m*\u001b[39;49m\u001b[39m*\u001b[39;49mgrid_kws)\n\u001b[1;32m   2118\u001b[0m \u001b[39m# Add the markers here as PairGrid has figured out how many levels of the\u001b[39;00m\n\u001b[1;32m   2119\u001b[0m \u001b[39m# hue variable are needed and we don't want to duplicate that process\u001b[39;00m\n\u001b[1;32m   2120\u001b[0m \u001b[39mif\u001b[39;00m markers \u001b[39mis\u001b[39;00m \u001b[39mnot\u001b[39;00m \u001b[39mNone\u001b[39;00m:\n",
      "File \u001b[0;32m~/tensorflow-test/env/lib/python3.10/site-packages/seaborn/axisgrid.py:1266\u001b[0m, in \u001b[0;36mPairGrid.__init__\u001b[0;34m(self, data, hue, vars, x_vars, y_vars, hue_order, palette, hue_kws, corner, diag_sharey, height, aspect, layout_pad, despine, dropna)\u001b[0m\n\u001b[1;32m   1263\u001b[0m \u001b[39mself\u001b[39m\u001b[39m.\u001b[39msquare_grid \u001b[39m=\u001b[39m \u001b[39mself\u001b[39m\u001b[39m.\u001b[39mx_vars \u001b[39m==\u001b[39m \u001b[39mself\u001b[39m\u001b[39m.\u001b[39my_vars\n\u001b[1;32m   1265\u001b[0m \u001b[39mif\u001b[39;00m \u001b[39mnot\u001b[39;00m x_vars:\n\u001b[0;32m-> 1266\u001b[0m     \u001b[39mraise\u001b[39;00m \u001b[39mValueError\u001b[39;00m(\u001b[39m\"\u001b[39m\u001b[39mNo variables found for grid columns.\u001b[39m\u001b[39m\"\u001b[39m)\n\u001b[1;32m   1267\u001b[0m \u001b[39mif\u001b[39;00m \u001b[39mnot\u001b[39;00m y_vars:\n\u001b[1;32m   1268\u001b[0m     \u001b[39mraise\u001b[39;00m \u001b[39mValueError\u001b[39;00m(\u001b[39m\"\u001b[39m\u001b[39mNo variables found for grid rows.\u001b[39m\u001b[39m\"\u001b[39m)\n",
      "\u001b[0;31mValueError\u001b[0m: No variables found for grid columns."
     ]
    }
   ],
   "source": [
    "sns.pairplot(data,palette='viridis',markers='*',height=2.5,kind='scatter')"
   ]
  },
  {
   "cell_type": "code",
   "execution_count": null,
   "metadata": {},
   "outputs": [],
   "source": []
  }
 ],
 "metadata": {
  "kernelspec": {
   "display_name": "Python 3",
   "language": "python",
   "name": "python3"
  },
  "language_info": {
   "codemirror_mode": {
    "name": "ipython",
    "version": 3
   },
   "file_extension": ".py",
   "mimetype": "text/x-python",
   "name": "python",
   "nbconvert_exporter": "python",
   "pygments_lexer": "ipython3",
   "version": "3.10.6"
  },
  "orig_nbformat": 4
 },
 "nbformat": 4,
 "nbformat_minor": 2
}
